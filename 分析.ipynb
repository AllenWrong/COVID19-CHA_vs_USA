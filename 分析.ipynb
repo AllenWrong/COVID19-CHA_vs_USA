{
 "cells": [
  {
   "cell_type": "markdown",
   "metadata": {},
   "source": [
    " # 爬虫模块"
   ]
  },
  {
   "cell_type": "markdown",
   "metadata": {},
   "source": [
    "* ## 新华每日电讯"
   ]
  },
  {
   "cell_type": "code",
   "execution_count": 19,
   "metadata": {},
   "outputs": [],
   "source": [
    "import requests\n",
    "from bs4 import BeautifulSoup\n",
    "import pandas as pd\n",
    "from tqdm import tqdm\n",
    "import json\n",
    "import re\n",
    "import os\n",
    "\n",
    "class Spider():\n",
    "    def __init__(self,keyword):\n",
    "        \n",
    "        self.log=self.init_info(keyword)\n",
    "        self.filename=self.get_max_filename(keyword)\n",
    "        \n",
    "        self.keyword=keyword\n",
    "        self.url=\"http://so.news.cn/was5/web/conwebsite/getNews\"\n",
    "        self.headers={\n",
    "            'User-Agent':'Mozilla/5.0 (Macintosh; Intel Mac OS X 10_15_7) AppleWebKit/537.36 (KHTML, like Gecko) Chrome/96.0.4664.55 Safari/537.36',\n",
    "            'Referer':'http://www.xinhuanet.com/',\n",
    "            \n",
    "        }\n",
    "        self.params={\n",
    "            'siteId': '11148',\n",
    "            'pageNo': '2',\n",
    "            'pageSize': '10',\n",
    "            'senior': '0',\n",
    "            'titleInclude': '1',\n",
    "            'condition': '1',\n",
    "            'textInclude': '1',\n",
    "            'sort': '1',\n",
    "            'keyword': keyword,\n",
    "            't': '1637493590751',\n",
    "        }\n",
    "        \n",
    "        for page in tqdm(range(self.log['新华每日电讯'][keyword],500),ncols=90):\n",
    "            self.params['pageNo']=page\n",
    "            self.get_first_page()\n",
    "            self.log['新华每日电讯'][keyword] += 1\n",
    "            self.flush_log()\n",
    "            \n",
    "            \n",
    "    def flush_log(self):\n",
    "        file=open('data/log.txt','w')\n",
    "        file.write(json.dumps(self.log))\n",
    "        file.close()\n",
    "        \n",
    "    def get_max_filename(self,keyword):\n",
    "        MAX=0\n",
    "        for i in os.listdir('data/CHA/%s'%keyword):\n",
    "            if i[0]=='.':\n",
    "                continue\n",
    "            if int(i.split('.')[0])>MAX:\n",
    "                MAX = int(i.split('.')[0])+1\n",
    "                \n",
    "        return MAX\n",
    "    \n",
    "    def init_info(self,keyword):\n",
    "        file=open('data/log.txt','r')\n",
    "        t=file.read()\n",
    "        js=json.loads(t)\n",
    "        file.close()\n",
    "        if not '新华每日电讯' in js:\n",
    "            js['新华每日电讯']={keyword:1}\n",
    "            \n",
    "        return js\n",
    "    \n",
    "    def get_first_page(self):\n",
    "        r=requests.get(self.url,headers=self.headers,params=self.params)\n",
    "        r.encoding='utf-8'\n",
    "        js=json.loads(r.text)\n",
    "        for i in js['content']['result']:\n",
    "            title=re.sub('[^\\u4e00-\\u9fa5，。？！]','',i['shortTitle'])\n",
    "            date=i['releaseDate']\n",
    "            url=i['originUrl'][0]\n",
    "            content=self.get_content(url)\n",
    "            content=re.sub('[^\\u4e00-\\u9fa5，。？！]','',content)\n",
    "            file=open('data/CHA/%s/%s.txt'%(self.keyword,self.filename),'w')\n",
    "            file.write(title+'\\n')\n",
    "            file.write(date+'\\n')\n",
    "            file.write(content+'\\n')\n",
    "            file.close()\n",
    "            self.filename += 1\n",
    "        \n",
    "\n",
    "    def get_content(self,url):\n",
    "        \n",
    "        r=requests.get(url,headers=self.headers)\n",
    "        r.encoding='utf-8'\n",
    "        soup=BeautifulSoup(r.text,'lxml')\n",
    "        content=soup.select('div.main-content-box')[0].text.strip()\n",
    "        return content\n",
    "            \n",
    "            \n",
    "#Spider('核酸')"
   ]
  },
  {
   "cell_type": "markdown",
   "metadata": {},
   "source": [
    "* ## 人民网"
   ]
  },
  {
   "cell_type": "code",
   "execution_count": 41,
   "metadata": {},
   "outputs": [
    {
     "name": "stderr",
     "output_type": "stream",
     "text": [
      "  0%|                                                             | 0/499 [00:00<?, ?it/s]"
     ]
    },
    {
     "name": "stdout",
     "output_type": "stream",
     "text": [
      "核酸检测前后注意哪些问题？ 2021-10-25 08:42:25 由于疫情反复，核酸检测最近又成了一个热门话题。哪些人要做核酸检测？做完核酸检测就可以放心了吗？核酸检测前后需要注意哪些问题？日，湖南省疾控专家进行了详细解答。哪些人需要做核酸检测？首先，和病例有过近距离接触且未采取有效防护的密切接触者，以及密切接触者的密切接触者又称次密接，都需要尽快进行集中医学观察并开展核酸检测。其次，由于目前德尔塔变异株强悍的传播能力，和病例在同一个密闭空间以及在病例离开后短时间内进入者，通过大数据被判定为与病例存在时空伴随者，有中高风险地区旅居史者，都需要进行核酸检测。通常，这些人员都会被赋予黄码。如果出现本地疫情，疾控部门为了快速搜索病例以斩断传播链，会在开展风险评估的基础上给出需要在一定范围内开展全员核酸检测的建议。另外，属于高风险岗位的人群必须根据岗位风险程度定期开展核酸检测。做完核酸检测就可以放心了吗？从国内发生的多起疫情都需要多轮核酸检测来看，答案显然是否定的。从以往的防控经验来看，出现过多次核酸检测都是阴性的境外输入病例，而这与采样人员的技术水平采样时机已感染而尚未开始排毒病毒在体内的滴度检测试剂的灵敏度检测人员的操作水平等都息息相关。核酸检测前后注意哪些问题？检测前做核酸检测前小时尽量避免进食，以免引起呕吐采样前分钟做到不喝饮料包括不喝水不吸烟不喝酒不咀嚼口香糖等临检要减少吞咽动作，不做清嗓子例如咳痰吐痰动作。采集鼻咽拭子前，被检测者应告知采集人员是否有相关既往病史或相关事项。检测者需要正确佩戴口罩，检测前取下口罩，检测后立即戴好，可准备一个备用口罩，污染后方便随时更换。检测中在采集口咽拭子时，被检测者头后仰，张口发出啊音，有助于暴露咽喉，但过程中会出现刺激性干咳恶心呕吐等症状，被检测者可配合采集人员尽量放松深呼吸采集过程中可能出现鼻部酸痒感，刺激打喷嚏，可立即用纸巾提前备好或手肘遮挡。检测后采集后立即离开采集地点，避免在采集地点周围吐痰呕吐。核酸检测前后都需要注意手部卫生，可使用免洗手消毒液或免洗酒精擦拭双手。大规模核酸检测期间，为了确保医务人员集中精力开展核酸检测，往往会暂停疫苗接种工作。外省防控经验曾经提出一项建议本地疫情期间，尽量在接种新冠疫苗小时内不要进行核酸检测。记者通讯员蔡亮孙倩莱张亚娜责编唐李晗彭应兵分享让更多人看到\n",
      "{'新华每日电讯': {'核酸': 500}, '人民网': {'核酸': 1}}\n",
      "770\n"
     ]
    },
    {
     "name": "stderr",
     "output_type": "stream",
     "text": [
      "\n"
     ]
    },
    {
     "ename": "AssertionError",
     "evalue": "",
     "output_type": "error",
     "traceback": [
      "\u001b[0;31m---------------------------------------------------------------------------\u001b[0m",
      "\u001b[0;31mAssertionError\u001b[0m                            Traceback (most recent call last)",
      "\u001b[0;32m<ipython-input-41-f87915574fc3>\u001b[0m in \u001b[0;36m<module>\u001b[0;34m\u001b[0m\n\u001b[1;32m    106\u001b[0m \u001b[0;32mif\u001b[0m \u001b[0m__name__\u001b[0m\u001b[0;34m==\u001b[0m\u001b[0;34m\"__main__\"\u001b[0m\u001b[0;34m:\u001b[0m\u001b[0;34m\u001b[0m\u001b[0;34m\u001b[0m\u001b[0m\n\u001b[1;32m    107\u001b[0m \u001b[0;34m\u001b[0m\u001b[0m\n\u001b[0;32m--> 108\u001b[0;31m     \u001b[0mSpider\u001b[0m\u001b[0;34m(\u001b[0m\u001b[0;34m'核酸'\u001b[0m\u001b[0;34m)\u001b[0m\u001b[0;34m\u001b[0m\u001b[0;34m\u001b[0m\u001b[0m\n\u001b[0m",
      "\u001b[0;32m<ipython-input-41-f87915574fc3>\u001b[0m in \u001b[0;36m__init__\u001b[0;34m(self, keyword)\u001b[0m\n\u001b[1;32m     40\u001b[0m         \u001b[0;32mfor\u001b[0m \u001b[0mpage\u001b[0m \u001b[0;32min\u001b[0m \u001b[0mtqdm\u001b[0m\u001b[0;34m(\u001b[0m\u001b[0mrange\u001b[0m\u001b[0;34m(\u001b[0m\u001b[0mself\u001b[0m\u001b[0;34m.\u001b[0m\u001b[0mlog\u001b[0m\u001b[0;34m[\u001b[0m\u001b[0mself\u001b[0m\u001b[0;34m.\u001b[0m\u001b[0mweb_name\u001b[0m\u001b[0;34m]\u001b[0m\u001b[0;34m[\u001b[0m\u001b[0mkeyword\u001b[0m\u001b[0;34m]\u001b[0m\u001b[0;34m,\u001b[0m\u001b[0;36m500\u001b[0m\u001b[0;34m)\u001b[0m\u001b[0;34m,\u001b[0m\u001b[0mncols\u001b[0m\u001b[0;34m=\u001b[0m\u001b[0;36m90\u001b[0m\u001b[0;34m)\u001b[0m\u001b[0;34m:\u001b[0m\u001b[0;34m\u001b[0m\u001b[0;34m\u001b[0m\u001b[0m\n\u001b[1;32m     41\u001b[0m             \u001b[0mself\u001b[0m\u001b[0;34m.\u001b[0m\u001b[0mdata\u001b[0m\u001b[0;34m[\u001b[0m\u001b[0;34m'page'\u001b[0m\u001b[0;34m]\u001b[0m\u001b[0;34m=\u001b[0m\u001b[0mpage\u001b[0m\u001b[0;34m\u001b[0m\u001b[0;34m\u001b[0m\u001b[0m\n\u001b[0;32m---> 42\u001b[0;31m             \u001b[0mself\u001b[0m\u001b[0;34m.\u001b[0m\u001b[0mget_first_page\u001b[0m\u001b[0;34m(\u001b[0m\u001b[0;34m)\u001b[0m\u001b[0;34m\u001b[0m\u001b[0;34m\u001b[0m\u001b[0m\n\u001b[0m\u001b[1;32m     43\u001b[0m             \u001b[0mself\u001b[0m\u001b[0;34m.\u001b[0m\u001b[0mlog\u001b[0m\u001b[0;34m[\u001b[0m\u001b[0mself\u001b[0m\u001b[0;34m.\u001b[0m\u001b[0mweb_name\u001b[0m\u001b[0;34m]\u001b[0m\u001b[0;34m[\u001b[0m\u001b[0mkeyword\u001b[0m\u001b[0;34m]\u001b[0m \u001b[0;34m+=\u001b[0m \u001b[0;36m1\u001b[0m\u001b[0;34m\u001b[0m\u001b[0;34m\u001b[0m\u001b[0m\n\u001b[1;32m     44\u001b[0m             \u001b[0mself\u001b[0m\u001b[0;34m.\u001b[0m\u001b[0mflush_log\u001b[0m\u001b[0;34m(\u001b[0m\u001b[0;34m)\u001b[0m\u001b[0;34m\u001b[0m\u001b[0;34m\u001b[0m\u001b[0m\n",
      "\u001b[0;32m<ipython-input-41-f87915574fc3>\u001b[0m in \u001b[0;36mget_first_page\u001b[0;34m(self)\u001b[0m\n\u001b[1;32m     85\u001b[0m             \u001b[0mprint\u001b[0m\u001b[0;34m(\u001b[0m\u001b[0mself\u001b[0m\u001b[0;34m.\u001b[0m\u001b[0mlog\u001b[0m\u001b[0;34m)\u001b[0m\u001b[0;34m\u001b[0m\u001b[0;34m\u001b[0m\u001b[0m\n\u001b[1;32m     86\u001b[0m             \u001b[0mprint\u001b[0m\u001b[0;34m(\u001b[0m\u001b[0mself\u001b[0m\u001b[0;34m.\u001b[0m\u001b[0mfilename\u001b[0m\u001b[0;34m)\u001b[0m\u001b[0;34m\u001b[0m\u001b[0;34m\u001b[0m\u001b[0m\n\u001b[0;32m---> 87\u001b[0;31m             \u001b[0;32massert\u001b[0m \u001b[0;36m1\u001b[0m\u001b[0;34m==\u001b[0m\u001b[0;36m0\u001b[0m\u001b[0;34m\u001b[0m\u001b[0;34m\u001b[0m\u001b[0m\n\u001b[0m\u001b[1;32m     88\u001b[0m             \u001b[0mfile\u001b[0m\u001b[0;34m=\u001b[0m\u001b[0mopen\u001b[0m\u001b[0;34m(\u001b[0m\u001b[0;34m'data/CHA/%s/%s.txt'\u001b[0m\u001b[0;34m%\u001b[0m\u001b[0;34m(\u001b[0m\u001b[0mself\u001b[0m\u001b[0;34m.\u001b[0m\u001b[0mkeyword\u001b[0m\u001b[0;34m,\u001b[0m\u001b[0mself\u001b[0m\u001b[0;34m.\u001b[0m\u001b[0mfilename\u001b[0m\u001b[0;34m)\u001b[0m\u001b[0;34m,\u001b[0m\u001b[0;34m'w'\u001b[0m\u001b[0;34m)\u001b[0m\u001b[0;34m\u001b[0m\u001b[0;34m\u001b[0m\u001b[0m\n\u001b[1;32m     89\u001b[0m             \u001b[0mfile\u001b[0m\u001b[0;34m.\u001b[0m\u001b[0mwrite\u001b[0m\u001b[0;34m(\u001b[0m\u001b[0mtitle\u001b[0m\u001b[0;34m+\u001b[0m\u001b[0;34m'\\n'\u001b[0m\u001b[0;34m)\u001b[0m\u001b[0;34m\u001b[0m\u001b[0;34m\u001b[0m\u001b[0m\n",
      "\u001b[0;31mAssertionError\u001b[0m: "
     ]
    }
   ],
   "source": [
    "import requests\n",
    "from bs4 import BeautifulSoup\n",
    "import pandas as pd\n",
    "from tqdm import tqdm\n",
    "import json\n",
    "import re\n",
    "import os\n",
    "import time\n",
    "\n",
    "class Spider():\n",
    "    def __init__(self,keyword):\n",
    "        self.web_name=\"人民网\"\n",
    "        self.log=self.init_info(keyword)\n",
    "        self.filename=self.get_max_filename(keyword)\n",
    "        \n",
    "        self.keyword=keyword\n",
    "        self.url=\"http://search.people.cn/search-platform/front/search\"\n",
    "        self.headers={\n",
    "            'User-Agent':'Mozilla/5.0 (Macintosh; Intel Mac OS X 10_15_7) AppleWebKit/537.36 (KHTML, like Gecko) Chrome/96.0.4664.55 Safari/537.36',\n",
    "            #'Referer':'http://www.xinhuanet.com/',\n",
    "            'Cookie':'__jsluid_h=d4f4332fb392a40cea16443f48a1f184; sso_c=0; sfr=1',\n",
    "            'Origin':'http://search.people.cn',\n",
    "            'Referer':'http://search.people.cn/s?keyword=%E6%A0%B8%E9%85%B8&st=0&_=1637496405242',\n",
    "            'Content-Type':'application/json',\n",
    "            \n",
    "        }\n",
    "        self.data={\n",
    "            'endTime': 0,\n",
    "            'hasContent': 'true',\n",
    "            'hasTitle': 'true',\n",
    "            'isFuzzy': 'true',\n",
    "            'key': keyword,\n",
    "            'limit': 10,\n",
    "            'page': 2,\n",
    "            'sortType': 2,\n",
    "            'startTime': 0,\n",
    "            'type': 0,\n",
    "        }\n",
    "        \n",
    "        for page in tqdm(range(self.log[self.web_name][keyword],500),ncols=90):\n",
    "            self.data['page']=page\n",
    "            self.get_first_page()\n",
    "            self.log[self.web_name][keyword] += 1\n",
    "            self.flush_log()\n",
    "            \n",
    "            \n",
    "    def flush_log(self):\n",
    "        file=open('爬虫/log','w')\n",
    "        file.write(json.dumps(self.log))\n",
    "        file.close()\n",
    "        \n",
    "    def get_max_filename(self,keyword):\n",
    "        MAX=0\n",
    "        for i in os.listdir('data/CHA/%s'%keyword):\n",
    "            if i[0]=='.':\n",
    "                continue\n",
    "            if int(i.split('.')[0])>MAX:\n",
    "                MAX = int(i.split('.')[0])+1\n",
    "                \n",
    "        return MAX\n",
    "    \n",
    "    def init_info(self,keyword):\n",
    "        file=open('爬虫/log','r')\n",
    "        t=file.read()\n",
    "        js=json.loads(t)\n",
    "        file.close()\n",
    "        if not self.web_name in js:\n",
    "            js[self.web_name]={keyword:1}\n",
    "            \n",
    "        return js\n",
    "    \n",
    "    def get_first_page(self):\n",
    "        r=requests.post(self.url,headers=self.headers,data=json.dumps(self.data))\n",
    "\n",
    "        js=json.loads(r.text)\n",
    "        for i in js['data']['records']:\n",
    "            title=re.sub('[^\\u4e00-\\u9fa5，。？！]','',i['title'])\n",
    "            date=i['displayTime']/1000\n",
    "            date=time.localtime(date)\n",
    "            date=time.strftime('%Y-%m-%d %H:%M:%d',date)\n",
    "            url=i['url']\n",
    "            content=self.get_content(url)\n",
    "            content=re.sub('[^\\u4e00-\\u9fa5，。？！]','',content)\n",
    "\n",
    "            file=open('data/CHA/%s/%s.txt'%(self.keyword,self.filename),'w')\n",
    "            file.write(title+'\\n')\n",
    "            file.write(date+'\\n')\n",
    "            file.write(content+'\\n')\n",
    "            file.close()\n",
    "            self.filename += 1\n",
    "        \n",
    "\n",
    "    def get_content(self,url):\n",
    "        \n",
    "        r=requests.get(url,headers=self.headers)\n",
    "        r.encoding='gbk'\n",
    "        #print(r.text)\n",
    "        soup=BeautifulSoup(r.text,'lxml')\n",
    "        content=soup.select('div.rm_txt_con')[0].text.strip()\n",
    "        return content\n",
    "            \n",
    "        \n",
    "if __name__==\"__main__\":\n",
    "\n",
    "    Spider('核酸')"
   ]
  },
  {
   "cell_type": "code",
   "execution_count": 33,
   "metadata": {},
   "outputs": [
    {
     "data": {
      "text/plain": [
       "'2021-10-07 00:51:07'"
      ]
     },
     "execution_count": 33,
     "metadata": {},
     "output_type": "execute_result"
    }
   ],
   "source": [
    "import time\n",
    "timestamp=1633539060000/1000\n",
    "d=time.localtime(timestamp)\n",
    "time.strftime('%Y-%m-%d %H:%M:%d',d)"
   ]
  },
  {
   "cell_type": "code",
   "execution_count": 13,
   "metadata": {},
   "outputs": [
    {
     "data": {
      "text/plain": [
       "'他们，是藏蓝青荧光黄蓝帽子，是让人放心的坚实后盾。各供电设备运行稳定。国网大连供电公司维修工罗昊在寒风中排除金普新区方舱核酸检测实验室供电隐患，专人现场小时驻守保电，配置应急发电车，咱蓝帽子不能掉链子。截至目前，大连全市共有名社区干部名志愿者名公安干警投身疫情防控阻击战。他们，都是这场战疫的脊梁，每个名字都熠熠发光。'"
      ]
     },
     "execution_count": 13,
     "metadata": {},
     "output_type": "execute_result"
    }
   ],
   "source": [
    "import re\n",
    "t=\"\"\"他们，是“藏蓝青”“荧光黄”“蓝帽子”，是让人放心的坚实后盾。\n",
    "　　“各供电设备运行稳定。”国网大连供电公司维修工罗昊在寒风中排除金普新区方舱核酸检测实验室供电隐患，“专人现场24小时驻守保电，配置应急发电车，咱‘蓝帽子’不能‘掉链子’。”\n",
    "　　截至目前，大连全市共有8778名社区干部、17708名志愿者、21600名公安干警投身疫情防控阻击战。\n",
    "　　他们，都是这场战“疫”的脊梁，每个名字都熠熠发光。\n",
    "\"\"\"\n",
    "re.sub('[^\\u4e00-\\u9fa5，。？！]','',t)"
   ]
  },
  {
   "cell_type": "code",
   "execution_count": null,
   "metadata": {},
   "outputs": [],
   "source": []
  },
  {
   "cell_type": "code",
   "execution_count": 8,
   "metadata": {},
   "outputs": [
    {
     "ename": "FileNotFoundError",
     "evalue": "[Errno 2] No such file or directory: 'data/China/'",
     "output_type": "error",
     "traceback": [
      "\u001b[0;31m---------------------------------------------------------------------------\u001b[0m",
      "\u001b[0;31mFileNotFoundError\u001b[0m                         Traceback (most recent call last)",
      "\u001b[0;32m<ipython-input-8-455d005b807d>\u001b[0m in \u001b[0;36m<module>\u001b[0;34m\u001b[0m\n\u001b[1;32m     39\u001b[0m     \u001b[0mconVector\u001b[0m \u001b[0;34m=\u001b[0m \u001b[0mCountVectorizer\u001b[0m\u001b[0;34m(\u001b[0m\u001b[0mstop_words\u001b[0m \u001b[0;34m=\u001b[0m \u001b[0mstop_words\u001b[0m\u001b[0;34m)\u001b[0m\u001b[0;34m\u001b[0m\u001b[0;34m\u001b[0m\u001b[0m\n\u001b[1;32m     40\u001b[0m \u001b[0;34m\u001b[0m\u001b[0m\n\u001b[0;32m---> 41\u001b[0;31m     \u001b[0;32mfor\u001b[0m \u001b[0mi\u001b[0m \u001b[0;32min\u001b[0m \u001b[0mtqdm\u001b[0m\u001b[0;34m(\u001b[0m\u001b[0mrandom\u001b[0m\u001b[0;34m.\u001b[0m\u001b[0msample\u001b[0m\u001b[0;34m(\u001b[0m\u001b[0mos\u001b[0m\u001b[0;34m.\u001b[0m\u001b[0mlistdir\u001b[0m\u001b[0;34m(\u001b[0m\u001b[0;34m'data/China/'\u001b[0m\u001b[0;34m)\u001b[0m\u001b[0;34m,\u001b[0m\u001b[0;36m2000\u001b[0m\u001b[0;34m)\u001b[0m\u001b[0;34m,\u001b[0m \u001b[0mncols\u001b[0m\u001b[0;34m=\u001b[0m\u001b[0;36m90\u001b[0m\u001b[0;34m)\u001b[0m\u001b[0;34m:\u001b[0m\u001b[0;34m\u001b[0m\u001b[0;34m\u001b[0m\u001b[0m\n\u001b[0m\u001b[1;32m     42\u001b[0m         \u001b[0;32mif\u001b[0m \u001b[0mi\u001b[0m\u001b[0;34m[\u001b[0m\u001b[0;36m0\u001b[0m\u001b[0;34m]\u001b[0m \u001b[0;34m==\u001b[0m \u001b[0;34m'.'\u001b[0m\u001b[0;34m:\u001b[0m\u001b[0;34m\u001b[0m\u001b[0;34m\u001b[0m\u001b[0m\n\u001b[1;32m     43\u001b[0m             \u001b[0;32mcontinue\u001b[0m\u001b[0;34m\u001b[0m\u001b[0;34m\u001b[0m\u001b[0m\n",
      "\u001b[0;31mFileNotFoundError\u001b[0m: [Errno 2] No such file or directory: 'data/China/'"
     ]
    }
   ],
   "source": [
    "import os\n",
    "import pandas as pd\n",
    "from tqdm import tqdm\n",
    "import jieba\n",
    "from jieba import posseg\n",
    "from sklearn.feature_extraction.text import CountVectorizer\n",
    "import random\n",
    "def get_words(filename):\n",
    "    \"\"\"\n",
    "    :param filename:   文件名\n",
    "    :return: list，每个元素为一个词\n",
    "    \"\"\"\n",
    "    words = []\n",
    "    file = open(filename, 'r')\n",
    "    text = file.read()\n",
    "    file.close()\n",
    "    sentence = posseg.cut(text)\n",
    "    for x in sentence:\n",
    "        if x.flag == 'n':\n",
    "            words.append(x.word)\n",
    "\n",
    "    return words\n",
    "\n",
    "\n",
    "def get_stop_words(path):\n",
    "    file = open(path, 'r', encoding='gbk')\n",
    "\n",
    "    words = [i.strip() for i in file.readlines()]\n",
    "    file.close()\n",
    "    return words\n",
    "\n",
    "\n",
    "if __name__ == \"__main__\":\n",
    "    words = []\n",
    "    \n",
    "    stop_words=get_stop_words('data/stop_words.txt')\n",
    "    \n",
    "    #useful_words = pd.read_excel('words.xlsx').iloc[:,0].tolist()\n",
    "    conVector = CountVectorizer(stop_words = stop_words)\n",
    "    \n",
    "    for i in tqdm(random.sample(os.listdir('data/China/'),2000), ncols=90):\n",
    "        if i[0] == '.':\n",
    "            continue\n",
    "        word = get_words('data/China/%s' % i)\n",
    "        \n",
    "        words.append(' '.join(word))\n",
    "\n",
    "    print(len(words))\n",
    "\n"
   ]
  },
  {
   "cell_type": "code",
   "execution_count": 132,
   "metadata": {},
   "outputs": [],
   "source": [
    "vector = conVector.fit_transform(words)\n"
   ]
  },
  {
   "cell_type": "code",
   "execution_count": 133,
   "metadata": {},
   "outputs": [],
   "source": [
    "from sklearn.decomposition import LatentDirichletAllocation\n",
    "\n",
    "lda=LatentDirichletAllocation(n_components=2,max_iter=50,learning_offset=50)\n",
    "docres = lda.fit_transform(vector.toarray())"
   ]
  },
  {
   "cell_type": "code",
   "execution_count": 134,
   "metadata": {},
   "outputs": [],
   "source": [
    "y=docres.argmax(axis=1)\n",
    "from sklearn.feature_selection import chi2,SelectKBest\n",
    "#f,p_value = chi2(vector.toarray(),y)\n",
    "model=SelectKBest(chi2,k=100)\n",
    "new_feature = model.fit_transform(vector.toarray(),y)"
   ]
  },
  {
   "cell_type": "code",
   "execution_count": 135,
   "metadata": {},
   "outputs": [],
   "source": [
    "index = model.get_support()\n",
    "words = pd.Series(conVector.get_feature_names())[index]"
   ]
  },
  {
   "cell_type": "code",
   "execution_count": 136,
   "metadata": {},
   "outputs": [],
   "source": [
    "lda=LatentDirichletAllocation(n_components=4,max_iter=50,learning_offset=50)\n",
    "docres = lda.fit_transform(new_feature)"
   ]
  },
  {
   "cell_type": "code",
   "execution_count": 137,
   "metadata": {},
   "outputs": [],
   "source": [
    "ser = pd.Series(words.tolist())\n"
   ]
  },
  {
   "cell_type": "code",
   "execution_count": 146,
   "metadata": {},
   "outputs": [
    {
     "data": {
      "image/svg+xml": [
       "<?xml version=\"1.0\" encoding=\"utf-8\" standalone=\"no\"?>\n",
       "<!DOCTYPE svg PUBLIC \"-//W3C//DTD SVG 1.1//EN\"\n",
       "  \"http://www.w3.org/Graphics/SVG/1.1/DTD/svg11.dtd\">\n",
       "<!-- Created with matplotlib (https://matplotlib.org/) -->\n",
       "<svg height=\"293.4pt\" version=\"1.1\" viewBox=\"0 0 572.4 293.4\" width=\"572.4pt\" xmlns=\"http://www.w3.org/2000/svg\" xmlns:xlink=\"http://www.w3.org/1999/xlink\">\n",
       " <metadata>\n",
       "  <rdf:RDF xmlns:cc=\"http://creativecommons.org/ns#\" xmlns:dc=\"http://purl.org/dc/elements/1.1/\" xmlns:rdf=\"http://www.w3.org/1999/02/22-rdf-syntax-ns#\">\n",
       "   <cc:Work>\n",
       "    <dc:type rdf:resource=\"http://purl.org/dc/dcmitype/StillImage\"/>\n",
       "    <dc:date>2021-11-17T18:26:14.871286</dc:date>\n",
       "    <dc:format>image/svg+xml</dc:format>\n",
       "    <dc:creator>\n",
       "     <cc:Agent>\n",
       "      <dc:title>Matplotlib v3.3.1, https://matplotlib.org/</dc:title>\n",
       "     </cc:Agent>\n",
       "    </dc:creator>\n",
       "   </cc:Work>\n",
       "  </rdf:RDF>\n",
       " </metadata>\n",
       " <defs>\n",
       "  <style type=\"text/css\">*{stroke-linecap:butt;stroke-linejoin:round;}</style>\n",
       " </defs>\n",
       " <g id=\"figure_1\">\n",
       "  <g id=\"patch_1\">\n",
       "   <path d=\"M 0 293.4 \n",
       "L 572.4 293.4 \n",
       "L 572.4 -0 \n",
       "L 0 -0 \n",
       "z\n",
       "\" style=\"fill:none;\"/>\n",
       "  </g>\n",
       "  <g id=\"axes_1\">\n",
       "   <g clip-path=\"url(#pf2b4b9e067)\">\n",
       "    <image height=\"279\" id=\"imageb23b54cbdf\" transform=\"scale(1 -1)translate(0 -279)\" width=\"558\" x=\"7.2\" xlink:href=\"data:image/png;base64,\n",
       "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\" y=\"-7.2\"/>\n",
       "   </g>\n",
       "  </g>\n",
       " </g>\n",
       " <defs>\n",
       "  <clipPath id=\"pf2b4b9e067\">\n",
       "   <rect height=\"279\" width=\"558\" x=\"7.2\" y=\"7.2\"/>\n",
       "  </clipPath>\n",
       " </defs>\n",
       "</svg>\n"
      ],
      "text/plain": [
       "<Figure size 720x720 with 1 Axes>"
      ]
     },
     "metadata": {
      "needs_background": "light"
     },
     "output_type": "display_data"
    }
   ],
   "source": [
    "import numpy as np\n",
    "dd=lda.components_[0]\n",
    "index=np.argsort(dd)[::-1]\n",
    "#ser=pd.Series(words)\n",
    "d=dict(zip(ser[index],dd[index]))\n",
    "import pandas as pd\n",
    "from wordcloud import WordCloud\n",
    "from matplotlib import pyplot as plt\n",
    "from IPython import display\n",
    "display.set_matplotlib_formats('svg')\n",
    "ser2=pd.Series(d)\n",
    "cloud=WordCloud(font_path='/system/library/fonts/Hiragino Sans GB.ttc')\n",
    "s=cloud.fit_words(d)\n",
    "fig=plt.figure(figsize=(10,10))\n",
    "plt.axis('off')\n",
    "plt.imshow(s)\n",
    "plt.savefig('1.png',dpi=400)"
   ]
  },
  {
   "cell_type": "code",
   "execution_count": 6,
   "metadata": {},
   "outputs": [
    {
     "name": "stderr",
     "output_type": "stream",
     "text": [
      "100%|████████████████████████████████████████████████| 100/100 [00:00<00:00, 34555.15it/s]\n"
     ]
    }
   ],
   "source": [
    "import os\n",
    "import pandas as pd\n",
    "from tqdm import tqdm\n",
    "import jieba\n",
    "from jieba import posseg\n",
    "def get_words(filename):\n",
    "    words=[]\n",
    "    file=open(filename,'r')\n",
    "    text=file.read()\n",
    "    file.close()\n",
    "    sentence = posseg.cut(text)\n",
    "    for x in sentence:\n",
    "        if x.flag =='n':\n",
    "            words.append(x.word)\n",
    "            \n",
    "    return words\n",
    "\n",
    "def get_stop_words(path):\n",
    "    file=open(path,'r',encoding='utf-8')\n",
    "    words=[i.strip() for i in file.readlines()]\n",
    "    file.close()\n",
    "    return words\n",
    "    \n",
    "if __name__==\"__main__\":\n",
    "    words=[]\n",
    "    for i in tqdm(os.listdir('data/ChA/疫苗/')[:100],ncols=90):\n",
    "        if i[0]=='.':\n",
    "            continue\n",
    "        try:\n",
    "            word=get_words('data/ChA/%s'%i)\n",
    "        except:\n",
    "            continue\n",
    "        words.append(' '.join(word))\n",
    "        \n",
    "    "
   ]
  },
  {
   "cell_type": "code",
   "execution_count": 7,
   "metadata": {},
   "outputs": [
    {
     "data": {
      "text/plain": [
       "[]"
      ]
     },
     "execution_count": 7,
     "metadata": {},
     "output_type": "execute_result"
    }
   ],
   "source": [
    "words"
   ]
  },
  {
   "cell_type": "code",
   "execution_count": 106,
   "metadata": {},
   "outputs": [],
   "source": [
    "from sklearn.feature_extraction.text import TfidfVectorizer\n",
    "tf_idf=TfidfVectorizer()\n",
    "model=tf_idf.fit_transform(words)"
   ]
  },
  {
   "cell_type": "code",
   "execution_count": 130,
   "metadata": {},
   "outputs": [],
   "source": [
    "t=model.toarray().sum(axis=0)"
   ]
  },
  {
   "cell_type": "code",
   "execution_count": 131,
   "metadata": {},
   "outputs": [],
   "source": [
    "words=tf_idf.get_feature_names()"
   ]
  },
  {
   "cell_type": "code",
   "execution_count": 135,
   "metadata": {},
   "outputs": [],
   "source": [
    "index=t.argsort()[::-1]"
   ]
  },
  {
   "cell_type": "code",
   "execution_count": 146,
   "metadata": {},
   "outputs": [
    {
     "data": {
      "text/plain": [
       "242      人民\n",
       "2805     疫情\n",
       "245     人民网\n",
       "2819     病例\n",
       "1089     国家\n",
       "2061     新冠\n",
       "3170     网站\n",
       "1683     强国\n",
       "1019     周刊\n",
       "3461     论坛\n",
       "3911     领导\n",
       "2338     核酸\n",
       "3429     视频\n",
       "2077     新闻\n",
       "224      人员\n",
       "3115     经济\n",
       "2797    留言板\n",
       "394      信息\n",
       "3245     肺炎\n",
       "500      全球\n",
       "1940     措施\n",
       "2808     疫苗\n",
       "454      党史\n",
       "1103     国际\n",
       "3087     纪念\n",
       "1107     图片\n",
       "2914    研究院\n",
       "490      全国\n",
       "3175     网络\n",
       "3689     邮箱\n",
       "2828     病毒\n",
       "951      口罩\n",
       "3725     重点\n",
       "2156     时间\n",
       "3061     精神\n",
       "2928     社会\n",
       "2934     社区\n",
       "838      医院\n",
       "173     互联网\n",
       "1116     地区\n",
       "dtype: object"
      ]
     },
     "execution_count": 146,
     "metadata": {},
     "output_type": "execute_result"
    }
   ],
   "source": [
    "import pandas as pd\n",
    "ser=pd.Series(words)\n",
    "ser[index[:40]]"
   ]
  },
  {
   "cell_type": "code",
   "execution_count": 124,
   "metadata": {},
   "outputs": [
    {
     "data": {
      "text/plain": [
       "14.793086969048248"
      ]
     },
     "execution_count": 124,
     "metadata": {},
     "output_type": "execute_result"
    }
   ],
   "source": [
    "t[242]"
   ]
  },
  {
   "cell_type": "code",
   "execution_count": 29,
   "metadata": {},
   "outputs": [
    {
     "data": {
      "text/html": [
       "<div>\n",
       "<style scoped>\n",
       "    .dataframe tbody tr th:only-of-type {\n",
       "        vertical-align: middle;\n",
       "    }\n",
       "\n",
       "    .dataframe tbody tr th {\n",
       "        vertical-align: top;\n",
       "    }\n",
       "\n",
       "    .dataframe thead th {\n",
       "        text-align: right;\n",
       "    }\n",
       "</style>\n",
       "<table border=\"1\" class=\"dataframe\">\n",
       "  <thead>\n",
       "    <tr style=\"text-align: right;\">\n",
       "      <th></th>\n",
       "      <th>a</th>\n",
       "      <th>c</th>\n",
       "    </tr>\n",
       "  </thead>\n",
       "  <tbody>\n",
       "    <tr>\n",
       "      <th>0</th>\n",
       "      <td>1</td>\n",
       "      <td>2</td>\n",
       "    </tr>\n",
       "  </tbody>\n",
       "</table>\n",
       "</div>"
      ],
      "text/plain": [
       "   a  c\n",
       "0  1  2"
      ]
     },
     "execution_count": 29,
     "metadata": {},
     "output_type": "execute_result"
    }
   ],
   "source": [
    "df=pd.DataFrame(data=[[1,2]],columns=['a','c'])\n",
    "df"
   ]
  },
  {
   "cell_type": "code",
   "execution_count": 92,
   "metadata": {},
   "outputs": [],
   "source": [
    "x=model.toarray()\n",
    "from sklearn.feature_selection import chi2\n",
    "f,p_value = chi2()"
   ]
  },
  {
   "cell_type": "code",
   "execution_count": 30,
   "metadata": {},
   "outputs": [
    {
     "name": "stdout",
     "output_type": "stream",
     "text": [
      "正在生成,2020-1~2020-4,图像\n",
      "LDA......\n"
     ]
    },
    {
     "name": "stderr",
     "output_type": "stream",
     "text": [
      "/opt/anaconda3/lib/python3.8/site-packages/sklearn/feature_extraction/text.py:383: UserWarning: Your stop_words may be inconsistent with your preprocessing. Tokenizing the stop words generated tokens ['ain', 'al', 'couldn', 'didn', 'doesn', 'don', 'hadn', 'hasn', 'haven', 'isn', 'll', 'mon', 'shouldn', 've', 'wasn', 'weren', 'won', 'wouldn'] not in stop_words.\n",
      "  warnings.warn('Your stop_words may be inconsistent with '\n"
     ]
    },
    {
     "name": "stdout",
     "output_type": "stream",
     "text": [
      "LDA successful !!\n",
      "正在进行聚类......\n",
      "聚类 successful !!\n",
      "chi.....\n",
      "chi successful !!\n",
      "LDA....\n",
      "(3, 200)\n",
      "(99, 3)\n",
      "0      accelerated\n",
      "1         actively\n",
      "2           africa\n",
      "3          african\n",
      "4         approach\n",
      "          ...     \n",
      "195            win\n",
      "196           wont\n",
      "197          wuhan\n",
      "198             xi\n",
      "199       zimbabwe\n",
      "Length: 200, dtype: object\n",
      "(99, 200)\n",
      "LDA successful !!!\n",
      "正在生成,2020-4~2020-7,图像\n",
      "LDA......\n"
     ]
    },
    {
     "name": "stderr",
     "output_type": "stream",
     "text": [
      "/opt/anaconda3/lib/python3.8/site-packages/sklearn/feature_extraction/text.py:383: UserWarning: Your stop_words may be inconsistent with your preprocessing. Tokenizing the stop words generated tokens ['ain', 'al', 'couldn', 'didn', 'doesn', 'don', 'hadn', 'hasn', 'haven', 'isn', 'll', 'mon', 'shouldn', 've', 'wasn', 'weren', 'won', 'wouldn'] not in stop_words.\n",
      "  warnings.warn('Your stop_words may be inconsistent with '\n"
     ]
    },
    {
     "name": "stdout",
     "output_type": "stream",
     "text": [
      "LDA successful !!\n",
      "正在进行聚类......\n",
      "聚类 successful !!\n",
      "chi.....\n",
      "chi successful !!\n",
      "LDA....\n",
      "(3, 200)\n",
      "(180, 3)\n",
      "0      achieve\n",
      "1       africa\n",
      "2      african\n",
      "3           ai\n",
      "4          air\n",
      "        ...   \n",
      "195    website\n",
      "196     window\n",
      "197      wuhan\n",
      "198         xi\n",
      "199       york\n",
      "Length: 200, dtype: object\n",
      "(180, 200)\n",
      "LDA successful !!!\n",
      "正在生成,2020-7~2020-10,图像\n",
      "LDA......\n"
     ]
    },
    {
     "name": "stderr",
     "output_type": "stream",
     "text": [
      "/opt/anaconda3/lib/python3.8/site-packages/sklearn/feature_extraction/text.py:383: UserWarning: Your stop_words may be inconsistent with your preprocessing. Tokenizing the stop words generated tokens ['ain', 'al', 'couldn', 'didn', 'doesn', 'don', 'hadn', 'hasn', 'haven', 'isn', 'll', 'mon', 'shouldn', 've', 'wasn', 'weren', 'won', 'wouldn'] not in stop_words.\n",
      "  warnings.warn('Your stop_words may be inconsistent with '\n"
     ]
    },
    {
     "name": "stdout",
     "output_type": "stream",
     "text": [
      "LDA successful !!\n",
      "正在进行聚类......\n",
      "聚类 successful !!\n",
      "chi.....\n",
      "chi successful !!\n",
      "LDA....\n",
      "(3, 200)\n",
      "(172, 3)\n",
      "0      achievements\n",
      "1           affairs\n",
      "2           african\n",
      "3        ambassador\n",
      "4       anniversary\n",
      "           ...     \n",
      "195          window\n",
      "196         workers\n",
      "197              xi\n",
      "198            yang\n",
      "199              yi\n",
      "Length: 200, dtype: object\n",
      "(172, 200)\n",
      "LDA successful !!!\n",
      "正在生成,2020-10~2021-1,图像\n"
     ]
    },
    {
     "name": "stderr",
     "output_type": "stream",
     "text": [
      "/opt/anaconda3/lib/python3.8/site-packages/sklearn/feature_extraction/text.py:383: UserWarning: Your stop_words may be inconsistent with your preprocessing. Tokenizing the stop words generated tokens ['ain', 'al', 'couldn', 'didn', 'doesn', 'don', 'hadn', 'hasn', 'haven', 'isn', 'll', 'mon', 'shouldn', 've', 'wasn', 'weren', 'won', 'wouldn'] not in stop_words.\n",
      "  warnings.warn('Your stop_words may be inconsistent with '\n"
     ]
    },
    {
     "name": "stdout",
     "output_type": "stream",
     "text": [
      "LDA......\n",
      "LDA successful !!\n",
      "正在进行聚类......\n",
      "聚类 successful !!\n",
      "chi.....\n",
      "chi successful !!\n",
      "LDA....\n",
      "(3, 200)\n",
      "(391, 3)\n",
      "0      address\n",
      "1       africa\n",
      "2      african\n",
      "3           ai\n",
      "4          app\n",
      "        ...   \n",
      "195    workers\n",
      "196      wuhan\n",
      "197         xi\n",
      "198         yi\n",
      "199       york\n",
      "Length: 200, dtype: object\n",
      "(391, 200)\n",
      "LDA successful !!!\n",
      "正在生成,2021-1~2021-4,图像\n"
     ]
    },
    {
     "name": "stderr",
     "output_type": "stream",
     "text": [
      "/opt/anaconda3/lib/python3.8/site-packages/sklearn/feature_extraction/text.py:383: UserWarning: Your stop_words may be inconsistent with your preprocessing. Tokenizing the stop words generated tokens ['ain', 'al', 'couldn', 'didn', 'doesn', 'don', 'hadn', 'hasn', 'haven', 'isn', 'll', 'mon', 'shouldn', 've', 'wasn', 'weren', 'won', 'wouldn'] not in stop_words.\n",
      "  warnings.warn('Your stop_words may be inconsistent with '\n"
     ]
    },
    {
     "name": "stdout",
     "output_type": "stream",
     "text": [
      "LDA......\n",
      "LDA successful !!\n",
      "正在进行聚类......\n",
      "聚类 successful !!\n",
      "chi.....\n",
      "chi successful !!\n",
      "LDA....\n",
      "(3, 200)\n",
      "(596, 3)\n",
      "0          achieved\n",
      "1      achievements\n",
      "2            africa\n",
      "3           african\n",
      "4         americans\n",
      "           ...     \n",
      "195           white\n",
      "196              xi\n",
      "197             xis\n",
      "198              yi\n",
      "199            york\n",
      "Length: 200, dtype: object\n",
      "(596, 200)\n",
      "LDA successful !!!\n",
      "正在生成,2021-4~2021-7,图像\n"
     ]
    },
    {
     "name": "stderr",
     "output_type": "stream",
     "text": [
      "/opt/anaconda3/lib/python3.8/site-packages/sklearn/feature_extraction/text.py:383: UserWarning: Your stop_words may be inconsistent with your preprocessing. Tokenizing the stop words generated tokens ['ain', 'al', 'couldn', 'didn', 'doesn', 'don', 'hadn', 'hasn', 'haven', 'isn', 'll', 'mon', 'shouldn', 've', 'wasn', 'weren', 'won', 'wouldn'] not in stop_words.\n",
      "  warnings.warn('Your stop_words may be inconsistent with '\n"
     ]
    },
    {
     "name": "stdout",
     "output_type": "stream",
     "text": [
      "LDA......\n",
      "LDA successful !!\n",
      "正在进行聚类......\n",
      "聚类 successful !!\n",
      "chi.....\n",
      "chi successful !!\n",
      "LDA....\n",
      "(3, 200)\n",
      "(556, 3)\n",
      "0          achieve\n",
      "1             acid\n",
      "2          advance\n",
      "3      afghanistan\n",
      "4           africa\n",
      "          ...     \n",
      "195         window\n",
      "196             xi\n",
      "197            xis\n",
      "198             yi\n",
      "199         yunnan\n",
      "Length: 200, dtype: object\n",
      "(556, 200)\n",
      "LDA successful !!!\n",
      "正在生成,2021-7~2021-12,图像\n"
     ]
    },
    {
     "name": "stderr",
     "output_type": "stream",
     "text": [
      "/opt/anaconda3/lib/python3.8/site-packages/sklearn/feature_extraction/text.py:383: UserWarning: Your stop_words may be inconsistent with your preprocessing. Tokenizing the stop words generated tokens ['ain', 'al', 'couldn', 'didn', 'doesn', 'don', 'hadn', 'hasn', 'haven', 'isn', 'll', 'mon', 'shouldn', 've', 'wasn', 'weren', 'won', 'wouldn'] not in stop_words.\n",
      "  warnings.warn('Your stop_words may be inconsistent with '\n"
     ]
    },
    {
     "name": "stdout",
     "output_type": "stream",
     "text": [
      "LDA......\n",
      "LDA successful !!\n",
      "正在进行聚类......\n",
      "聚类 successful !!\n",
      "chi.....\n",
      "chi successful !!\n",
      "LDA....\n",
      "(3, 200)\n",
      "(575, 3)\n",
      "0          achieve\n",
      "1          advance\n",
      "2      afghanistan\n",
      "3           agenda\n",
      "4      anniversary\n",
      "          ...     \n",
      "195         womens\n",
      "196            won\n",
      "197             xi\n",
      "198            xis\n",
      "199    zhangjiakou\n",
      "Length: 200, dtype: object\n",
      "(575, 200)\n",
      "LDA successful !!!\n"
     ]
    },
    {
     "name": "stderr",
     "output_type": "stream",
     "text": [
      "<ipython-input-30-971853fe2b6f>:70: RuntimeWarning: More than 20 figures have been opened. Figures created through the pyplot interface (`matplotlib.pyplot.figure`) are retained until explicitly closed and may consume too much memory. (To control this warning, see the rcParam `figure.max_open_warning`).\n",
      "  plt.figure(figsize=(16, 16))\n"
     ]
    },
    {
     "data": {
      "text/plain": [
       "<Figure size 1152x1152 with 0 Axes>"
      ]
     },
     "metadata": {},
     "output_type": "display_data"
    },
    {
     "data": {
      "text/plain": [
       "<Figure size 1152x1152 with 0 Axes>"
      ]
     },
     "metadata": {},
     "output_type": "display_data"
    },
    {
     "data": {
      "text/plain": [
       "<Figure size 1152x1152 with 0 Axes>"
      ]
     },
     "metadata": {},
     "output_type": "display_data"
    },
    {
     "data": {
      "text/plain": [
       "<Figure size 1152x1152 with 0 Axes>"
      ]
     },
     "metadata": {},
     "output_type": "display_data"
    },
    {
     "data": {
      "text/plain": [
       "<Figure size 1152x1152 with 0 Axes>"
      ]
     },
     "metadata": {},
     "output_type": "display_data"
    },
    {
     "data": {
      "text/plain": [
       "<Figure size 1152x1152 with 0 Axes>"
      ]
     },
     "metadata": {},
     "output_type": "display_data"
    },
    {
     "data": {
      "text/plain": [
       "<Figure size 1152x1152 with 0 Axes>"
      ]
     },
     "metadata": {},
     "output_type": "display_data"
    },
    {
     "data": {
      "text/plain": [
       "<Figure size 1152x1152 with 0 Axes>"
      ]
     },
     "metadata": {},
     "output_type": "display_data"
    },
    {
     "data": {
      "text/plain": [
       "<Figure size 1152x1152 with 0 Axes>"
      ]
     },
     "metadata": {},
     "output_type": "display_data"
    },
    {
     "data": {
      "text/plain": [
       "<Figure size 1152x1152 with 0 Axes>"
      ]
     },
     "metadata": {},
     "output_type": "display_data"
    },
    {
     "data": {
      "text/plain": [
       "<Figure size 1152x1152 with 0 Axes>"
      ]
     },
     "metadata": {},
     "output_type": "display_data"
    },
    {
     "data": {
      "text/plain": [
       "<Figure size 1152x1152 with 0 Axes>"
      ]
     },
     "metadata": {},
     "output_type": "display_data"
    },
    {
     "data": {
      "text/plain": [
       "<Figure size 1152x1152 with 0 Axes>"
      ]
     },
     "metadata": {},
     "output_type": "display_data"
    },
    {
     "data": {
      "text/plain": [
       "<Figure size 1152x1152 with 0 Axes>"
      ]
     },
     "metadata": {},
     "output_type": "display_data"
    },
    {
     "data": {
      "text/plain": [
       "<Figure size 1152x1152 with 0 Axes>"
      ]
     },
     "metadata": {},
     "output_type": "display_data"
    },
    {
     "data": {
      "text/plain": [
       "<Figure size 1152x1152 with 0 Axes>"
      ]
     },
     "metadata": {},
     "output_type": "display_data"
    },
    {
     "data": {
      "text/plain": [
       "<Figure size 1152x1152 with 0 Axes>"
      ]
     },
     "metadata": {},
     "output_type": "display_data"
    },
    {
     "data": {
      "text/plain": [
       "<Figure size 1152x1152 with 0 Axes>"
      ]
     },
     "metadata": {},
     "output_type": "display_data"
    },
    {
     "data": {
      "text/plain": [
       "<Figure size 1152x1152 with 0 Axes>"
      ]
     },
     "metadata": {},
     "output_type": "display_data"
    },
    {
     "data": {
      "text/plain": [
       "<Figure size 1152x1152 with 0 Axes>"
      ]
     },
     "metadata": {},
     "output_type": "display_data"
    },
    {
     "data": {
      "text/plain": [
       "<Figure size 1152x1152 with 0 Axes>"
      ]
     },
     "metadata": {},
     "output_type": "display_data"
    }
   ],
   "source": [
    "import pandas as pd\n",
    "from sklearn.feature_extraction.text import CountVectorizer\n",
    "from sklearn.feature_selection import chi2,SelectKBest\n",
    "from sklearn.decomposition import LatentDirichletAllocation\n",
    "import json\n",
    "from matplotlib import pyplot as plt\n",
    "from wordcloud import WordCloud\n",
    "from sklearn.cluster import KMeans\n",
    "import imageio\n",
    "import shutil\n",
    "import os\n",
    "plt.rcParams['font.sans-serif']=['Arial Unicode Ms']\n",
    "\n",
    "    \n",
    "\n",
    "\n",
    "def get_stop_words(filename):\n",
    "    file=open(filename,'r',encoding='gbk')\n",
    "    stop_words = file.read().split('\\n')\n",
    "    file.close()\n",
    "    return stop_words\n",
    "\n",
    "\n",
    "def get_plot(d,n_components,filename,cloud_num_words=100,lang=\"CHA\"):\n",
    "\n",
    "    stop_words = get_stop_words('data/stop_words.txt')\n",
    "    data=d['content'].values.tolist()\n",
    "    classifier = d['class'].tolist()\n",
    "    cotVector = CountVectorizer(stop_words=stop_words)\n",
    "    vector=cotVector.fit_transform(data)\n",
    "    word_array = vector.toarray()\n",
    "    feature_name = cotVector.get_feature_names()\n",
    "    feature_name[:10]\n",
    "    words = pd.Series(feature_name)\n",
    "    print(\"LDA......\")\n",
    "    lda = LatentDirichletAllocation(n_components=n_components,learning_offset=50,max_iter=50)\n",
    "    docres = lda.fit_transform(word_array)\n",
    "    print(\"LDA successful !!\")\n",
    "    print(\"正在进行聚类......\")\n",
    "    model=KMeans(n_clusters=n_components)\n",
    "    classifier=model.fit_predict(docres)\n",
    "    print(\"聚类 successful !!\")\n",
    "    print(\"chi.....\")\n",
    "    f,p_value = chi2(word_array,classifier)\n",
    "    model=SelectKBest(chi2,k=200)\n",
    "    print(\"chi successful !!\")\n",
    "    new_word_array = model.fit_transform(word_array,classifier)\n",
    "    words=words[model.get_support()]\n",
    "    words=pd.Series(words.tolist())\n",
    "    print(\"LDA....\")\n",
    "    lda = LatentDirichletAllocation(n_components=n_components,learning_offset=50,max_iter=50)\n",
    "    \n",
    "    docres = lda.fit_transform(new_word_array)\n",
    "    print(lda.components_.shape)\n",
    "    print(docres.shape)\n",
    "    print(words)\n",
    "    print(new_word_array.shape)\n",
    "    print(\"LDA successful !!!\")\n",
    "    mask = imageio.imread('data/China.png')\n",
    "    if lang==\"ENG\":\n",
    "        mask = imageio.imread('data/USA.png')\n",
    "    for t_index in range(n_components):\n",
    "\n",
    "        index = lda.components_[t_index].argsort()[-cloud_num_words:]\n",
    "        ws = words[index].tolist()\n",
    "        i = lda.components_[t_index][index]\n",
    "        #cloud=WordCloud(font_path='C:/Windows/simhei.ttf')   #window\n",
    "        cloud = WordCloud(font_path='/system/library/fonts/Hiragino Sans GB.ttc',scale=8,mask=mask)  #mac\n",
    "        s=cloud.fit_words(dict(zip(ws,i)))\n",
    "        plt.figure(figsize=(16, 16))\n",
    "        #plt.imshow(s)\n",
    "\n",
    "        cloud.to_file(filename+'%s.png'%t_index)\n",
    "\n",
    "def main(method,n_components,lang=\"CHA\",cloud_num_words=100):\n",
    "\n",
    "\n",
    "    file = 'useful_data_CHA.csv'\n",
    "    if lang==\"ENG\":\n",
    "        file='useful_data_ENG.csv'\n",
    "    df=pd.read_csv('data/%s'%file,encoding='gbk').head(2000)\n",
    "    df.loc[:,'date']=pd.to_datetime(df.date)\n",
    "    df.set_index('date',inplace=True)\n",
    "    slic = []\n",
    "    if method=='季':\n",
    "        slic.append(['2020-1','2020-4'])\n",
    "        slic.append(['2020-4','2020-7'])\n",
    "        slic.append(['2020-7','2020-10'])\n",
    "        slic.append(['2020-10','2021-1'])\n",
    "        slic.append(['2021-1','2021-4'])\n",
    "        slic.append(['2021-4','2021-7'])\n",
    "        slic.append(['2021-7','2021-12'])\n",
    "    elif method=='半年':\n",
    "        slic.append(['2020-1','2020-7'])\n",
    "        slic.append(['2020-7','2021-1'])\n",
    "        slic.append(['2021-1','2021-7'])\n",
    "        slic.append(['2021-7','2021-12'])\n",
    "    elif method=='年':\n",
    "        slic.append(['2020-1','2021-1'])\n",
    "        slic.append(['2021-1','2021-12'])\n",
    "\n",
    "    for i in slic:\n",
    "\n",
    "        d=df.loc[i[0]:i[1],:]\n",
    "        date = i[0]+'~'+i[1]\n",
    "        print('正在生成,' + date+',图像')\n",
    "        get_plot(d,n_components,'Img/%s/%s,%s,'%(method,lang,date),lang=lang)\n",
    "\n",
    "if __name__==\"__main__\":\n",
    "\n",
    "    main('季',3,lang=\"ENG\")\n",
    "    "
   ]
  },
  {
   "cell_type": "code",
   "execution_count": 99,
   "metadata": {},
   "outputs": [
    {
     "data": {
      "text/plain": [
       "LatentDirichletAllocation(learning_offset=50, max_iter=50, n_components=5,\n",
       "                          random_state=0)"
      ]
     },
     "execution_count": 99,
     "metadata": {},
     "output_type": "execute_result"
    }
   ],
   "source": [
    "lda.fit(array)"
   ]
  },
  {
   "cell_type": "code",
   "execution_count": 103,
   "metadata": {},
   "outputs": [
    {
     "name": "stdout",
     "output_type": "stream",
     "text": [
      "[4613, 6248, 5729, 3390, 8951, 7981, 7346, 3502, 7417]\n",
      "[11685, 3228, 7499, 1682, 9650, 6728, 8767, 7515, 4766]\n",
      "[8128, 712, 715, 8150, 3151, 5985, 9248, 6743, 10095]\n",
      "[7675, 459, 715, 549, 10932, 7072, 3875, 9902, 2414]\n",
      "[8548, 4562, 5941, 3113, 6239, 6905, 1539, 11069, 8665]\n"
     ]
    }
   ],
   "source": [
    "for topic in lda.components_:\n",
    "    print([i for i in topic.argsort()[:-10:-1]])"
   ]
  },
  {
   "cell_type": "code",
   "execution_count": 104,
   "metadata": {},
   "outputs": [
    {
     "ename": "AttributeError",
     "evalue": "'list' object has no attribute 'argsort'",
     "output_type": "error",
     "traceback": [
      "\u001b[0;31m---------------------------------------------------------------------------\u001b[0m",
      "\u001b[0;31mAttributeError\u001b[0m                            Traceback (most recent call last)",
      "\u001b[0;32m<ipython-input-104-570f07d67e68>\u001b[0m in \u001b[0;36m<module>\u001b[0;34m\u001b[0m\n\u001b[0;32m----> 1\u001b[0;31m \u001b[0;34m[\u001b[0m\u001b[0;36m1\u001b[0m\u001b[0;34m,\u001b[0m\u001b[0;36m2\u001b[0m\u001b[0;34m,\u001b[0m\u001b[0;36m2\u001b[0m\u001b[0;34m,\u001b[0m\u001b[0;36m1\u001b[0m\u001b[0;34m]\u001b[0m\u001b[0;34m.\u001b[0m\u001b[0margsort\u001b[0m\u001b[0;34m(\u001b[0m\u001b[0;34m)\u001b[0m\u001b[0;34m\u001b[0m\u001b[0;34m\u001b[0m\u001b[0m\n\u001b[0m",
      "\u001b[0;31mAttributeError\u001b[0m: 'list' object has no attribute 'argsort'"
     ]
    }
   ],
   "source": []
  },
  {
   "cell_type": "code",
   "execution_count": 23,
   "metadata": {},
   "outputs": [],
   "source": [
    "for x in sentence:\n",
    "    if x.flag =='n':\n",
    "        words.append(x.word)"
   ]
  }
 ],
 "metadata": {
  "kernelspec": {
   "display_name": "Python 3",
   "language": "python",
   "name": "python3"
  },
  "language_info": {
   "codemirror_mode": {
    "name": "ipython",
    "version": 3
   },
   "file_extension": ".py",
   "mimetype": "text/x-python",
   "name": "python",
   "nbconvert_exporter": "python",
   "pygments_lexer": "ipython3",
   "version": "3.8.5"
  }
 },
 "nbformat": 4,
 "nbformat_minor": 4
}
